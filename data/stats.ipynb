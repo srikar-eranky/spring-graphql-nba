{
 "cells": [
  {
   "cell_type": "code",
   "execution_count": 164,
   "metadata": {},
   "outputs": [],
   "source": [
    "from nba_api.stats.static import players\n",
    "from nba_api.stats.static import teams\n",
    "from nba_api.stats.endpoints import *\n",
    "import random\n",
    "import json\n",
    "from datetime import datetime"
   ]
  },
  {
   "cell_type": "code",
   "execution_count": 165,
   "metadata": {},
   "outputs": [],
   "source": [
    "nba_players = players.get_players()\n",
    "nba_players = [player for player in nba_players if player['is_active'] == True]\n",
    "nba_teams = teams.get_teams()"
   ]
  },
  {
   "cell_type": "code",
   "execution_count": 166,
   "metadata": {},
   "outputs": [],
   "source": [
    "player = random.choice(nba_players)\n",
    "player_id = player['id']"
   ]
  },
  {
   "cell_type": "code",
   "execution_count": null,
   "metadata": {},
   "outputs": [],
   "source": [
    "player_info = commonplayerinfo.CommonPlayerInfo(player_id=player_id)\n",
    "df = player_info.common_player_info.get_data_frame()"
   ]
  },
  {
   "cell_type": "code",
   "execution_count": null,
   "metadata": {},
   "outputs": [],
   "source": [
    "print(df['POSITION'])\n",
    "print(df['DISPLAY_FIRST_LAST'])"
   ]
  },
  {
   "cell_type": "code",
   "execution_count": null,
   "metadata": {},
   "outputs": [],
   "source": [
    "df.columns"
   ]
  },
  {
   "cell_type": "code",
   "execution_count": null,
   "metadata": {},
   "outputs": [],
   "source": [
    "json_obj = json.loads(df.to_json(orient='records'))\n",
    "json_obj[0]['BIRTHDATE']"
   ]
  },
  {
   "cell_type": "code",
   "execution_count": null,
   "metadata": {},
   "outputs": [],
   "source": [
    "career = playercareerstats.PlayerCareerStats(player_id=player_id)\n",
    "career = career.get_data_frames()[0]\n",
    "career"
   ]
  },
  {
   "cell_type": "code",
   "execution_count": null,
   "metadata": {},
   "outputs": [],
   "source": [
    "nba_teams = teams.get_teams()\n",
    "nba_teams"
   ]
  },
  {
   "cell_type": "code",
   "execution_count": null,
   "metadata": {},
   "outputs": [],
   "source": [
    "team = random.choice(nba_teams)\n",
    "team_id = team['id']\n",
    "team_info = teaminfocommon.TeamInfoCommon(team_id=team_id)\n",
    "team_info"
   ]
  },
  {
   "cell_type": "code",
   "execution_count": null,
   "metadata": {},
   "outputs": [],
   "source": [
    "team_info_df = team_info.team_info_common.get_data_frame()\n",
    "team_info_df"
   ]
  },
  {
   "cell_type": "code",
   "execution_count": null,
   "metadata": {},
   "outputs": [],
   "source": [
    "team_info_df.columns"
   ]
  },
  {
   "cell_type": "code",
   "execution_count": null,
   "metadata": {},
   "outputs": [],
   "source": [
    "details = teamdetails.TeamDetails(team_id=team_id)\n",
    "details_df = details.get_data_frames()[0]"
   ]
  },
  {
   "cell_type": "code",
   "execution_count": null,
   "metadata": {},
   "outputs": [],
   "source": [
    "details_df"
   ]
  },
  {
   "cell_type": "code",
   "execution_count": null,
   "metadata": {},
   "outputs": [],
   "source": [
    "player = random.choice(nba_players)\n",
    "player_id = player['id']\n",
    "player_profile = playerprofilev2.PlayerProfileV2(player_id=player_id)\n",
    "df = player_profile.get_data_frames()[0]\n",
    "json_obj = df.to_json(orient=\"records\")\n",
    "json_obj"
   ]
  },
  {
   "cell_type": "code",
   "execution_count": null,
   "metadata": {},
   "outputs": [],
   "source": [
    "json_list = json.loads(json_obj)"
   ]
  },
  {
   "cell_type": "code",
   "execution_count": null,
   "metadata": {},
   "outputs": [],
   "source": [
    "curr = json_list[len(json_list)-1]\n",
    "curr"
   ]
  },
  {
   "cell_type": "code",
   "execution_count": null,
   "metadata": {},
   "outputs": [],
   "source": [
    "df.columns"
   ]
  },
  {
   "cell_type": "code",
   "execution_count": null,
   "metadata": {},
   "outputs": [],
   "source": [
    "sql_file_path = \"../src/main/resources/data.sql\"\n",
    "\n",
    "team_sql_statements = []\n",
    "player_sql_statements = []\n",
    "for team in nba_teams:\n",
    "    team_id = team['id']\n",
    "    team_info = teaminfocommon.TeamInfoCommon(team_id)\n",
    "    team_details = teamdetails.TeamDetails(team_id)\n",
    "    team_info_obj = json.loads(team_info.team_info_common.get_data_frame().to_json(orient='records'))[0]\n",
    "    team_details = team_details.get_data_frames()[0]\n",
    "    coach = team_details['HEADCOACH'][0]\n",
    "    owner = team_details['OWNER'][0]\n",
    "    arena = team_details['ARENA'][0]\n",
    "    team_sql_statements.append(f\"INSERT INTO TEAM (id, name, city, coach, arena, founded, owner, conference) VALUES ({team['id']}, '{team['full_name']}', '{team['city']}', '{coach}', '{arena}', '{team['year_founded']}', '{owner}', '{team_info_obj['TEAM_CONFERENCE']}');\")\n",
    "    \n",
    "\n",
    "for player in nba_players:\n",
    "    try:\n",
    "        player_id = player['id']\n",
    "        player_info = commonplayerinfo.CommonPlayerInfo(player_id=player_id)\n",
    "        df = player_info.common_player_info.get_data_frame()\n",
    "        json_list = json.loads(df.to_json(orient=\"records\"))\n",
    "        json_obj = json_list[len(json_list)-1]\n",
    "        birthdate = datetime.strptime(json_obj['BIRTHDATE'], '%Y-%m-%dT%H:%M:%S')\n",
    "        age = (datetime.now() - birthdate).days // 365\n",
    "        player_sql_statements.append(f\"INSERT INTO PLAYER (id, team_id, name, age, height, position) VALUES ({player_id}, {json_obj['TEAM_ID']}, '{json_obj['DISPLAY_FIRST_LAST']}', {age}, '{json_obj['HEIGHT']}', '{json_obj['POSITION'].upper()}');\")\n",
    "    except Exception as e:\n",
    "        print(str(e))\n",
    "\n",
    "with open(sql_file_path, 'a') as file:\n",
    "    file.write(\"\\n\".join(team_sql_statements))\n",
    "    file.write(\"\\n\")\n",
    "    file.write(\"\\n\".join(player_sql_statements))"
   ]
  },
  {
   "cell_type": "code",
   "execution_count": null,
   "metadata": {},
   "outputs": [],
   "source": [
    "with open(sql_file_path, 'r') as file:\n",
    "    lines = file.readlines()\n",
    "\n",
    "# Process each line to ensure it ends with a semicolon\n",
    "with open(sql_file_path, 'w') as file:\n",
    "    for line in lines:\n",
    "        # Strip any existing whitespace or newline characters\n",
    "        stripped_line = line.strip()\n",
    "        \n",
    "        # Append a semicolon if the line is not empty and doesn't already end with one\n",
    "        if stripped_line and not stripped_line.endswith(';'):\n",
    "            stripped_line += ';'\n",
    "        \n",
    "        # Write the modified line back to the file with a newline\n",
    "        file.write(stripped_line + '\\n')"
   ]
  },
  {
   "cell_type": "code",
   "execution_count": null,
   "metadata": {},
   "outputs": [],
   "source": [
    "id = random.choice(nba_teams)['id']"
   ]
  },
  {
   "cell_type": "code",
   "execution_count": null,
   "metadata": {},
   "outputs": [],
   "source": [
    "teamdashboard = teamdashboardbygeneralsplits.TeamDashboardByGeneralSplits(team_id=team_id)"
   ]
  },
  {
   "cell_type": "code",
   "execution_count": null,
   "metadata": {},
   "outputs": [],
   "source": [
    "teamdashboard = teamdashboard.get_data_frames()"
   ]
  },
  {
   "cell_type": "code",
   "execution_count": null,
   "metadata": {},
   "outputs": [],
   "source": [
    "teamdashboard[1]"
   ]
  },
  {
   "cell_type": "code",
   "execution_count": 163,
   "metadata": {},
   "outputs": [],
   "source": [
    "teamstats_statements = []\n",
    "for team in nba_teams:\n",
    "    id = team['id']\n",
    "    json_list = json.loads(teamyearbyyearstats.TeamYearByYearStats(team_id=id).get_data_frames()[0].to_json(orient='records'))\n",
    "    for obj in json_list:\n",
    "        gp = obj['GP']\n",
    "        teamstats_statements.append(f\"INSERT INTO TEAMSTATS (team_id, season, played, won, lost, ppg, rpg, apg, fgpercent, ftpercent, fgthreepercent, conf_rank) VALUES ({id}, '{obj['YEAR']}', {gp}, {obj['WINS']}, {obj['LOSSES']}, {obj['PTS']/gp}, {obj['REB']/gp}, {obj['AST']/gp}, {obj['FG_PCT']}, {obj['FT_PCT']}, {obj['FG3_PCT']}, {obj['CONF_RANK']});\")\n",
    "\n",
    "with open(sql_file_path, 'a') as file:\n",
    "    file.write(\"\\n\".join(teamstats_statements))"
   ]
  },
  {
   "cell_type": "code",
   "execution_count": null,
   "metadata": {},
   "outputs": [],
   "source": [
    "team_by_year = teamyearbyyearstats.TeamYearByYearStats(team_id=id)"
   ]
  },
  {
   "cell_type": "code",
   "execution_count": null,
   "metadata": {},
   "outputs": [],
   "source": [
    "teamstats = team_by_year.get_data_frames()"
   ]
  },
  {
   "cell_type": "code",
   "execution_count": null,
   "metadata": {},
   "outputs": [],
   "source": [
    "df = teamstats[0]\n",
    "df"
   ]
  },
  {
   "cell_type": "code",
   "execution_count": 158,
   "metadata": {},
   "outputs": [
    {
     "data": {
      "text/plain": [
       "Index(['TEAM_ID', 'TEAM_CITY', 'TEAM_NAME', 'YEAR', 'GP', 'WINS', 'LOSSES',\n",
       "       'WIN_PCT', 'CONF_RANK', 'DIV_RANK', 'PO_WINS', 'PO_LOSSES',\n",
       "       'CONF_COUNT', 'DIV_COUNT', 'NBA_FINALS_APPEARANCE', 'FGM', 'FGA',\n",
       "       'FG_PCT', 'FG3M', 'FG3A', 'FG3_PCT', 'FTM', 'FTA', 'FT_PCT', 'OREB',\n",
       "       'DREB', 'REB', 'AST', 'PF', 'STL', 'TOV', 'BLK', 'PTS', 'PTS_RANK'],\n",
       "      dtype='object')"
      ]
     },
     "execution_count": 158,
     "metadata": {},
     "output_type": "execute_result"
    }
   ],
   "source": [
    "df.columns"
   ]
  },
  {
   "cell_type": "code",
   "execution_count": null,
   "metadata": {},
   "outputs": [],
   "source": [
    "standings = leaguestandings.LeagueStandings()"
   ]
  },
  {
   "cell_type": "code",
   "execution_count": null,
   "metadata": {},
   "outputs": [],
   "source": [
    "standings.get_data_frames()"
   ]
  },
  {
   "cell_type": "code",
   "execution_count": null,
   "metadata": {},
   "outputs": [],
   "source": [
    "df.columns"
   ]
  },
  {
   "cell_type": "code",
   "execution_count": 169,
   "metadata": {},
   "outputs": [],
   "source": [
    "player = random.choice(nba_players)\n",
    "player_id = player['id']"
   ]
  },
  {
   "cell_type": "code",
   "execution_count": 175,
   "metadata": {},
   "outputs": [],
   "source": [
    "sql_file_path = \"../src/main/resources/data.sql\"\n",
    "playerstats_statements = []\n",
    "for player in nba_players:\n",
    "    player_id = player['id']\n",
    "    career = playercareerstats.PlayerCareerStats(player_id=player_id)\n",
    "    stats_list = json.loads(career.get_data_frames()[0].to_json(orient='records'))\n",
    "    for season in stats_list:\n",
    "        gp = season['GP']\n",
    "        playerstats_statements.append(f\"INSERT INTO PLAYERSTATS (player_id, season, minpergame, ppg, rpg, apg, stealspergame, bpg, tov, fgpercent, ftpercent, fgthreepercent) VALUES ({player_id}, '{season['SEASON_ID']}', {season['MIN']/gp}, {season['PTS']/gp}, {season['REB']/gp}, {season['AST']/gp}, {season['STL']/gp}, {season['BLK']/gp}, {season['TOV']/gp}, {season['FG_PCT']}, {season['FT_PCT']}, {season['FG3_PCT']})\")\n",
    "\n",
    "with open(sql_file_path, 'a') as file:\n",
    "    file.write('\\n'.join(playerstats_statements))"
   ]
  },
  {
   "cell_type": "code",
   "execution_count": 168,
   "metadata": {},
   "outputs": [
    {
     "data": {
      "text/plain": [
       "Index(['PLAYER_ID', 'SEASON_ID', 'LEAGUE_ID', 'TEAM_ID', 'TEAM_ABBREVIATION',\n",
       "       'PLAYER_AGE', 'GP', 'GS', 'MIN', 'FGM', 'FGA', 'FG_PCT', 'FG3M', 'FG3A',\n",
       "       'FG3_PCT', 'FTM', 'FTA', 'FT_PCT', 'OREB', 'DREB', 'REB', 'AST', 'STL',\n",
       "       'BLK', 'TOV', 'PF', 'PTS'],\n",
       "      dtype='object')"
      ]
     },
     "execution_count": 168,
     "metadata": {},
     "output_type": "execute_result"
    }
   ],
   "source": [
    "career.columns"
   ]
  },
  {
   "cell_type": "code",
   "execution_count": 174,
   "metadata": {},
   "outputs": [
    {
     "name": "stdout",
     "output_type": "stream",
     "text": [
      "{'PLAYER_ID': 1641764, 'SEASON_ID': '2023-24', 'LEAGUE_ID': '00', 'TEAM_ID': 1610612744, 'TEAM_ABBREVIATION': 'GSW', 'PLAYER_AGE': 21.0, 'GP': 74, 'GS': 28, 'MIN': 1968.0, 'FGM': 271, 'FGA': 597, 'FG_PCT': 0.454, 'FG3M': 90, 'FG3A': 234, 'FG3_PCT': 0.385, 'FTM': 50, 'FTA': 79, 'FT_PCT': 0.633, 'OREB': 118, 'DREB': 309, 'REB': 427, 'AST': 273, 'STL': 61, 'BLK': 14, 'TOV': 88, 'PF': 122, 'PTS': 682}\n"
     ]
    }
   ],
   "source": [
    "career = playercareerstats.PlayerCareerStats(player_id=player_id)\n",
    "stats_list = json.loads(career.get_data_frames()[0].to_json(orient='records'))\n",
    "for season in stats_list:\n",
    "    print(season)"
   ]
  },
  {
   "cell_type": "code",
   "execution_count": null,
   "metadata": {},
   "outputs": [],
   "source": []
  }
 ],
 "metadata": {
  "kernelspec": {
   "display_name": "base",
   "language": "python",
   "name": "python3"
  },
  "language_info": {
   "codemirror_mode": {
    "name": "ipython",
    "version": 3
   },
   "file_extension": ".py",
   "mimetype": "text/x-python",
   "name": "python",
   "nbconvert_exporter": "python",
   "pygments_lexer": "ipython3",
   "version": "3.11.5"
  }
 },
 "nbformat": 4,
 "nbformat_minor": 2
}
